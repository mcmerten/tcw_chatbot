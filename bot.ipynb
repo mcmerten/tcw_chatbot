{
 "cells": [
  {
   "cell_type": "code",
   "execution_count": 1,
   "metadata": {},
   "outputs": [],
   "source": [
    "#!/usr/bin/env python\n",
    "# coding: utf-8\n",
    "\n",
    "import os\n",
    "from dotenv import load_dotenv\n",
    "from langchain.embeddings import OpenAIEmbeddings\n",
    "from langchain.chains.qa_with_sources import load_qa_with_sources_chain\n",
    "from langchain.prompts import PromptTemplate#\n",
    "from langchain.vectorstores import Chroma\n",
    "from langchain.chains import RetrievalQAWithSourcesChain, RetrievalQA\n",
    "from langchain import OpenAI\n",
    "import gradio as gr"
   ]
  },
  {
   "cell_type": "code",
   "execution_count": 2,
   "metadata": {},
   "outputs": [
    {
     "name": "stderr",
     "output_type": "stream",
     "text": [
      "Using embedded DuckDB with persistence: data will be stored in: db\n"
     ]
    }
   ],
   "source": [
    "\n",
    "load_dotenv()\n",
    "os.environ['OPENAI_API_KEY'] = os.environ.get('OPENAI_API_TOKEN')\n",
    "\n",
    "embeddings = OpenAIEmbeddings()\n",
    "db = Chroma(persist_directory=\"db\", embedding_function=embeddings)\n"
   ]
  },
  {
   "cell_type": "code",
   "execution_count": 3,
   "metadata": {},
   "outputs": [],
   "source": [
    "\n",
    "prompt_template = \"\"\"Use the following pieces of context to answer the question at the end.\n",
    "If you don't know the answer, just say that you don't know, don't try to make up an answer.\n",
    "\n",
    "{context}\n",
    "\n",
    "Question: {question}\n",
    "Answer in German:\"\"\"\n",
    "\n",
    "PROMPT = PromptTemplate(\n",
    "    template=prompt_template, input_variables=[\"context\", \"question\"]\n",
    ")"
   ]
  },
  {
   "cell_type": "code",
   "execution_count": 4,
   "metadata": {},
   "outputs": [],
   "source": [
    "\n",
    "chain_type_kwargs = {\"prompt\": PROMPT}\n",
    "qa = RetrievalQA.from_chain_type(llm=OpenAI(),\n",
    "                                 chain_type=\"stuff\",\n",
    "                                 retriever=db.as_retriever(),\n",
    "                                 chain_type_kwargs=chain_type_kwargs, \n",
    "                                 return_source_documents=True)\n"
   ]
  },
  {
   "cell_type": "code",
   "execution_count": 11,
   "metadata": {},
   "outputs": [],
   "source": [
    "docs = db.similarity_search(query)\n",
    "qa_rerank = load_qa_with_sources_chain(OpenAI(temperature=0), chain_type=\"map_rerank\", metadata_keys=['source'], return_intermediate_steps=True)\n"
   ]
  },
  {
   "cell_type": "code",
   "execution_count": 13,
   "metadata": {},
   "outputs": [],
   "source": [
    "query = \"Wann hat Prof. Dr. Wildemann einen Verdiensorden erhalten?\"\n",
    "result = qa_rerank({\"input_documents\": docs, \"question\": query}, return_only_outputs=True)"
   ]
  },
  {
   "cell_type": "code",
   "execution_count": 23,
   "metadata": {},
   "outputs": [
    {
     "data": {
      "text/plain": [
       "{'source': 'scraper/html/tcw.de/tcw.de_sitemap.html',\n",
       " 'intermediate_steps': [{'answer': ' Ich weiß es nicht.', 'score': '0'},\n",
       "  {'answer': ' TCW bietet Beratungsdienstleistungen, Finanzdienstleistungen und Immobiliendienstleistungen an.',\n",
       "   'score': '100'},\n",
       "  {'answer': ' TCW bietet Unternehmensberatung an.', 'score': '100'},\n",
       "  {'answer': ' TCW bietet Beratungsdienstleistungen in den Bereichen Finanzen, Steuern, Recht und Unternehmensführung an.',\n",
       "   'score': '100'}],\n",
       " 'output_text': ' TCW bietet Beratungsdienstleistungen, Finanzdienstleistungen und Immobiliendienstleistungen an.'}"
      ]
     },
     "execution_count": 23,
     "metadata": {},
     "output_type": "execute_result"
    }
   ],
   "source": [
    "from langchain.output_parsers import RegexParser\n",
    "\n",
    "output_parser = RegexParser(\n",
    "    regex=r\"(.*?)\\nScore: (.*)\",\n",
    "    output_keys=[\"answer\", \"score\"],\n",
    ")\n",
    "\n",
    "prompt_template = \"\"\"Use the following pieces of context to answer the question at the end. If you don't know the answer, just say that you don't know, don't try to make up an answer. \n",
    "If the answer contains of multiple parts, give it in bullet points. \n",
    "\n",
    "In addition to giving an answer, also return a score of how fully it answered the user's question. This should be in the following format:\n",
    "\n",
    "Question: [question here]\n",
    "Helpful Answer In German: [answer here]\n",
    "Score: [score between 0 and 100]\n",
    "\n",
    "Begin!\n",
    "\n",
    "Context:\n",
    "---------\n",
    "{context}\n",
    "---------\n",
    "Question: {question}\n",
    "Helpful Answer In German:\"\"\"\n",
    "\n",
    "PROMPT = PromptTemplate(\n",
    "    template=prompt_template,\n",
    "    input_variables=[\"context\", \"question\"],\n",
    "    output_parser=output_parser,\n",
    ")\n",
    "chain = load_qa_with_sources_chain(OpenAI(temperature=0), chain_type=\"map_rerank\", metadata_keys=['source'], return_intermediate_steps=True, prompt=PROMPT)\n",
    "query = \"Welche Dienstleistungen bietet TCW an?\"\n",
    "result = chain({\"input_documents\": docs, \"question\": query}, return_only_outputs=True)\n",
    "result\n"
   ]
  },
  {
   "cell_type": "code",
   "execution_count": 71,
   "metadata": {},
   "outputs": [],
   "source": [
    "from langchain.chains import LLMChain\n",
    "from langchain.chains.question_answering import load_qa_chain\n",
    "from langchain.chains.conversational_retrieval.prompts import CONDENSE_QUESTION_PROMPT\n",
    "from langchain.chains import ConversationalRetrievalChain\n",
    "from langchain.memory import ConversationBufferMemory\n",
    "\n",
    "\n",
    "prompt_template = \"\"\"Use the following pieces of context to answer the question at the end.\n",
    "If you don't know the answer, just say that you don't know, don't try to make up an answer.\n",
    "In case the question has multiple answers, formulate the answer in bullet points. \n",
    "\n",
    "{context}\n",
    "\n",
    "Question: {question}\n",
    "Answer in German:\"\"\"\n",
    "PROMPT = PromptTemplate(\n",
    "    template=prompt_template, input_variables=[\"context\", \"question\"]\n",
    ") \n",
    "\n",
    "chain_type_kwargs = {\"prompt\": PROMPT}\n",
    "\n",
    "def get_chat_history(inputs) -> str:\n",
    "    res = []\n",
    "    for human, ai in inputs:\n",
    "        res.append(f\"Human: {human}\\nAI: {ai}\")\n",
    "    return \"\\n\".join(res)\n",
    "\n",
    "chat_history = []\n",
    "memory = ConversationBufferMemory(memory_key=\"chat_history\", return_messages=True)\n",
    "\n",
    "qa = ConversationalRetrievalChain.from_llm(llm = OpenAI(temperature=0),\n",
    "                                           retriever = db.as_retriever(),\n",
    "                                           qa_prompt=PROMPT,\n",
    "                                           chain_type=\"stuff\", \n",
    "                                           return_source_documents = False, \n",
    "                                           memory = memory, \n",
    "                                           #get_chat_history=get_chat_history, \n",
    "                                           verbose = True)\n"
   ]
  },
  {
   "cell_type": "code",
   "execution_count": 96,
   "metadata": {},
   "outputs": [
    {
     "data": {
      "text/plain": [
       "[HumanMessage(content='Wer ist Prof. Dr. Wildemann?', additional_kwargs={}),\n",
       " AIMessage(content=' \\nProf. Dr. Wildemann ist ein ordentlicher Professor für Betriebswirtschaftslehre an den Universitäten Bayreuth, Passau und seit 1989 an der Technischen Universität München. Er hat Maschinenbau (Dipl.-Ing.) und Betriebswirtschaftslehre (Dipl.-Kfm.) an der Universität Aachen und Köln studiert und promovierte 1974 zum Dr. rer. pol. Er habilitierte sich 1980 an der Universität zu Köln (Dr. habil.).', additional_kwargs={}),\n",
       " HumanMessage(content='Hat er Auszeichnungen erhalten?', additional_kwargs={}),\n",
       " AIMessage(content=' \\n- Staatsmedaille des Freistaates Bayern \\n- Bundesverdienstkreuz 1. Klasse der Bundesrepublik Deutschland \\n- Ehrendoktorwürden der Universitäten Klagenfurt, Passau und Cottbus \\n- Logistik Hall of Fame \\n- Bayerischen Verdienstorden \\n- Ehrennadel der Bundesvereinigung Logistik', additional_kwargs={})]"
      ]
     },
     "execution_count": 96,
     "metadata": {},
     "output_type": "execute_result"
    }
   ],
   "source": [
    "memory.chat_memory.messages"
   ]
  },
  {
   "cell_type": "code",
   "execution_count": 72,
   "metadata": {},
   "outputs": [
    {
     "name": "stdout",
     "output_type": "stream",
     "text": [
      "\n",
      "\n",
      "\u001b[1m> Entering new ConversationalRetrievalChain chain...\u001b[0m\n",
      "\n",
      "\u001b[1m> Finished chain.\u001b[0m\n"
     ]
    },
    {
     "data": {
      "text/plain": [
       "{'question': 'Wer ist Prof. Dr. Wildemann?',\n",
       " 'chat_history': [HumanMessage(content='Wer ist Prof. Dr. Wildemann?', additional_kwargs={}),\n",
       "  AIMessage(content=' \\nProf. Dr. Wildemann ist ein ordentlicher Professor für Betriebswirtschaftslehre an den Universitäten Bayreuth, Passau und seit 1989 an der Technischen Universität München. Er hat Maschinenbau (Dipl.-Ing.) und Betriebswirtschaftslehre (Dipl.-Kfm.) an der Universität Aachen und Köln studiert und promovierte 1974 zum Dr. rer. pol. Er habilitierte sich 1980 an der Universität zu Köln (Dr. habil.).', additional_kwargs={})],\n",
       " 'answer': ' \\nProf. Dr. Wildemann ist ein ordentlicher Professor für Betriebswirtschaftslehre an den Universitäten Bayreuth, Passau und seit 1989 an der Technischen Universität München. Er hat Maschinenbau (Dipl.-Ing.) und Betriebswirtschaftslehre (Dipl.-Kfm.) an der Universität Aachen und Köln studiert und promovierte 1974 zum Dr. rer. pol. Er habilitierte sich 1980 an der Universität zu Köln (Dr. habil.).'}"
      ]
     },
     "execution_count": 72,
     "metadata": {},
     "output_type": "execute_result"
    }
   ],
   "source": [
    "query = \"Wer ist Prof. Dr. Wildemann?\"\n",
    "result = qa({\"question\": query, \"chat_history\" : chat_history})\n",
    "#chat_history.append((query, result[\"answer\"]))\n",
    "result"
   ]
  },
  {
   "cell_type": "code",
   "execution_count": 73,
   "metadata": {},
   "outputs": [
    {
     "name": "stdout",
     "output_type": "stream",
     "text": [
      "\n",
      "\n",
      "\u001b[1m> Entering new ConversationalRetrievalChain chain...\u001b[0m\n",
      "\n",
      "\u001b[1m> Finished chain.\u001b[0m\n"
     ]
    },
    {
     "data": {
      "text/plain": [
       "{'question': 'Hat er Auszeichnungen erhalten?',\n",
       " 'chat_history': [HumanMessage(content='Wer ist Prof. Dr. Wildemann?', additional_kwargs={}),\n",
       "  AIMessage(content=' \\nProf. Dr. Wildemann ist ein ordentlicher Professor für Betriebswirtschaftslehre an den Universitäten Bayreuth, Passau und seit 1989 an der Technischen Universität München. Er hat Maschinenbau (Dipl.-Ing.) und Betriebswirtschaftslehre (Dipl.-Kfm.) an der Universität Aachen und Köln studiert und promovierte 1974 zum Dr. rer. pol. Er habilitierte sich 1980 an der Universität zu Köln (Dr. habil.).', additional_kwargs={}),\n",
       "  HumanMessage(content='Hat er Auszeichnungen erhalten?', additional_kwargs={}),\n",
       "  AIMessage(content=' \\n- Staatsmedaille des Freistaates Bayern \\n- Bundesverdienstkreuz 1. Klasse der Bundesrepublik Deutschland \\n- Ehrendoktorwürden der Universitäten Klagenfurt, Passau und Cottbus \\n- Logistik Hall of Fame \\n- Bayerischen Verdienstorden \\n- Ehrennadel der Bundesvereinigung Logistik', additional_kwargs={})],\n",
       " 'answer': ' \\n- Staatsmedaille des Freistaates Bayern \\n- Bundesverdienstkreuz 1. Klasse der Bundesrepublik Deutschland \\n- Ehrendoktorwürden der Universitäten Klagenfurt, Passau und Cottbus \\n- Logistik Hall of Fame \\n- Bayerischen Verdienstorden \\n- Ehrennadel der Bundesvereinigung Logistik'}"
      ]
     },
     "execution_count": 73,
     "metadata": {},
     "output_type": "execute_result"
    }
   ],
   "source": [
    "query = \"Hat er Auszeichnungen erhalten?\"\n",
    "result = qa({\"question\": query, \"chat_history\" : chat_history})\n",
    "#chat_history.append((query, result[\"answer\"]))\n",
    "result"
   ]
  },
  {
   "cell_type": "code",
   "execution_count": 83,
   "metadata": {},
   "outputs": [
    {
     "data": {
      "text/plain": [
       "[HumanMessage(content='Wer ist Prof. Dr. Wildemann?', additional_kwargs={}),\n",
       " AIMessage(content=' \\nProf. Dr. Wildemann ist ein ordentlicher Professor für Betriebswirtschaftslehre an den Universitäten Bayreuth, Passau und seit 1989 an der Technischen Universität München. Er hat Maschinenbau (Dipl.-Ing.) und Betriebswirtschaftslehre (Dipl.-Kfm.) an der Universität Aachen und Köln studiert und promovierte 1974 zum Dr. rer. pol. Er habilitierte sich 1980 an der Universität zu Köln (Dr. habil.).', additional_kwargs={}),\n",
       " HumanMessage(content='Hat er Auszeichnungen erhalten?', additional_kwargs={}),\n",
       " AIMessage(content=' \\n- Staatsmedaille des Freistaates Bayern \\n- Bundesverdienstkreuz 1. Klasse der Bundesrepublik Deutschland \\n- Ehrendoktorwürden der Universitäten Klagenfurt, Passau und Cottbus \\n- Logistik Hall of Fame \\n- Bayerischen Verdienstorden \\n- Ehrennadel der Bundesvereinigung Logistik', additional_kwargs={})]"
      ]
     },
     "execution_count": 83,
     "metadata": {},
     "output_type": "execute_result"
    }
   ],
   "source": [
    "result[\"chat_history\"]"
   ]
  },
  {
   "attachments": {},
   "cell_type": "markdown",
   "metadata": {},
   "source": []
  },
  {
   "cell_type": "code",
   "execution_count": 52,
   "metadata": {},
   "outputs": [
    {
     "name": "stdout",
     "output_type": "stream",
     "text": [
      "\n",
      "\n",
      "\u001b[1m> Entering new ConversationalRetrievalChain chain...\u001b[0m\n",
      "\n",
      "\u001b[1m> Finished chain.\u001b[0m\n"
     ]
    },
    {
     "data": {
      "text/plain": [
       "{'question': 'Über wen reden wir?',\n",
       " 'chat_history': [],\n",
       " 'answer': ' Wir reden über Mehr Infos zum Thema.'}"
      ]
     },
     "execution_count": 52,
     "metadata": {},
     "output_type": "execute_result"
    }
   ],
   "source": [
    "query = \"Über wen reden wir?\"\n",
    "result = qa({\"question\": query, \"chat_history\" : chat_history})\n",
    "#chat_history.append((query, result[\"answer\"]))\n",
    "result"
   ]
  },
  {
   "cell_type": "code",
   "execution_count": 26,
   "metadata": {},
   "outputs": [
    {
     "data": {
      "text/plain": [
       "'Human: Wer ist Prof. Dr. Wildemann?\\nAI:  \\nProf. Dr. Wildemann ist ein ordentlicher Professor für Betriebswirtschaftslehre an den Universitäten Bayreuth, Passau und seit 1989 an der Technischen Universität München. Er hat Maschinenbau (Dipl.-Ing.) und Betriebswirtschaftslehre (Dipl.-Kfm.) an der Universität Aachen und Köln studiert und promovierte 1974 zum Dr. rer. pol. Er habilitierte sich 1980 an der Universität zu Köln (Dr. habil.).'"
      ]
     },
     "execution_count": 26,
     "metadata": {},
     "output_type": "execute_result"
    }
   ],
   "source": [
    "pruiget_chat_history(chat_history)"
   ]
  },
  {
   "cell_type": "code",
   "execution_count": 22,
   "metadata": {},
   "outputs": [
    {
     "data": {
      "text/plain": [
       "[[('Wer ist Prof. Dr. Wildemann?',\n",
       "   ' \\nProf. Dr. Wildemann ist ein ordentlicher Professor für Betriebswirtschaftslehre an den Universitäten Bayreuth, Passau und seit 1989 an der Technischen Universität München. Er hat Maschinenbau (Dipl.-Ing.) und Betriebswirtschaftslehre (Dipl.-Kfm.) an der Universität Aachen und Köln studiert und promovierte 1974 zum Dr. rer. pol. Er habilitierte sich 1980 an der Universität zu Köln (Dr. habil.).')]]"
      ]
     },
     "execution_count": 22,
     "metadata": {},
     "output_type": "execute_result"
    }
   ],
   "source": [
    "chat_history"
   ]
  },
  {
   "cell_type": "code",
   "execution_count": 15,
   "metadata": {},
   "outputs": [
    {
     "name": "stdout",
     "output_type": "stream",
     "text": [
      "Human: Wer ist Prof. Dr. Wildemann?\n",
      "AI:  \n",
      "Prof. Dr. Wildemann ist ein ordentlicher Professor für Betriebswirtschaftslehre an den Universitäten Bayreuth, Passau und seit 1989 an der Technischen Universität München. Er hat Maschinenbau (Dipl.-Ing.) und Betriebswirtschaftslehre (Dipl.-Kfm.) an der Universität Aachen und Köln studiert und promovierte 1974 zum Dr. rer. pol. Er habilitierte sich 1980 an der Universität zu Köln (Dr. habil.).\n"
     ]
    }
   ],
   "source": [
    "print(result[\"chat_history\"][0])"
   ]
  },
  {
   "cell_type": "code",
   "execution_count": null,
   "metadata": {},
   "outputs": [],
   "source": [
    "\n",
    "def qa_query(query):\n",
    "    result = qa({\"query\": query})\n",
    "    return result\n",
    "\n",
    "with gr.Blocks() as tcw_bot:\n",
    "    chatbot = gr.Chatbot()\n",
    "    msg = gr.Textbox(placeholder=\"Enter question and press enter\", show_label=False)\n",
    "    clear = gr.Button(\"Clear\")\n",
    "\n",
    "    def user(user_message, history):\n",
    "        return \"\", history + [[user_message, None]]\n",
    "    \n",
    "    def bot(history):\n",
    "        response = qa_query(history[-1][0])\n",
    "        print(response)\n",
    "        response_result = response[\"result\"]\n",
    "        metadata = response[\"source_documents\"]\n",
    "        history[-1][1] = response_result\n",
    "\n",
    "        return history\n",
    "\n",
    "    msg.submit(user, [msg, chatbot], [msg, chatbot], queue=False).then(\n",
    "        bot, chatbot, chatbot\n",
    "    )\n",
    "    clear.click(lambda: None, None, chatbot, queue=False)\n",
    "\n",
    "\n",
    "tcw_bot.launch(share=False)"
   ]
  }
 ],
 "metadata": {
  "kernelspec": {
   "display_name": "Python 3",
   "language": "python",
   "name": "python3"
  },
  "language_info": {
   "codemirror_mode": {
    "name": "ipython",
    "version": 3
   },
   "file_extension": ".py",
   "mimetype": "text/x-python",
   "name": "python",
   "nbconvert_exporter": "python",
   "pygments_lexer": "ipython3",
   "version": "3.10.5"
  },
  "orig_nbformat": 4
 },
 "nbformat": 4,
 "nbformat_minor": 2
}
